{
 "cells": [
  {
   "cell_type": "code",
   "execution_count": null,
   "id": "5479bccd-870a-4add-abbd-0ab4ef88fe72",
   "metadata": {},
   "outputs": [],
   "source": [
    "import fastf1 as f1\n",
    "import pandas as pd\n",
    "import numpy as np\n",
    "from datetime import timedelta\n",
    "import matplotlib.pyplot as plt"
   ]
  },
  {
   "cell_type": "code",
   "execution_count": null,
   "id": "576c6cd0-a33f-4dbe-8573-c7b7b6eb609e",
   "metadata": {},
   "outputs": [],
   "source": [
    "class DataAquisition: \n",
    "    '''\n",
    "    A class with two functions that...\n",
    "    '''\n",
    "    \n",
    "    def __init__(self): \n",
    "        '''\n",
    "        Init the class function\n",
    "        '''\n",
    "        print('Class is initialized')\n",
    "\n",
    "    def get_practice_laps(self, gp, year): \n",
    "        FP1_session = f1.get_session(year = year, gp = gp, identifier = 'FP1')\n",
    "        FP2_session = f1.get_session(year = year, gp = gp, identifier = 'FP2')\n",
    "        FP3_session = f1.get_session(year = year, gp = gp, identifier = 'FP3')\n",
    "\n",
    "        FP1_session.load()\n",
    "        FP2_session.load()\n",
    "        FP3_session.load()\n",
    "\n",
    "        df_FP1_session = FP1_session.laps\n",
    "        df_FP2_session = FP2_session.laps\n",
    "        df_FP3_session = FP3_session.laps\n",
    "\n",
    "        return df_FP1_session, df_FP2_session, df_FP3_session\n",
    "\n",
    "    def get_fastest_laps(self, gp, year): \n",
    "        list_of_FP_sessions = self.get_practice_laps(gp, year)\n",
    "        \n",
    "        #Empty dataframe with columns for driver and their fastest lap\n",
    "        valid_driver_fastest_lap = pd.DataFrame(columns=['DriverNumber','Session','FastestLap'])\n",
    "        \n",
    "        for session in range(len(list_of_FP_sessions)):\n",
    "            #Collect all drivers that have completed a lap in FP \n",
    "            drivers = list_of_FP_sessions[session]['DriverNumber'].unique()\n",
    "        \n",
    "            for i in range(len(drivers)):\n",
    "                #Collect all laps completed by driver\n",
    "                driver_laps = list_of_FP_sessions[session][list_of_FP_sessions[session]['DriverNumber'] == drivers[i]]\n",
    "                \n",
    "                #Remove deleted laps and NaN lap times \n",
    "                valid_driver_laps = driver_laps[driver_laps['Deleted'].astype(bool) == False].dropna(subset=['LapTime'])\n",
    "    \n",
    "                #Temp list to store laps in total seconds \n",
    "                driver_lap_times_sec = []\n",
    "    \n",
    "                #Converting drivers laps to seconds\n",
    "                for j in range(len(valid_driver_laps)):\n",
    "                    driver_lap_times_sec.append(valid_driver_laps.iloc[j]['LapTime'].total_seconds())\n",
    "    \n",
    "                #Sort drivers lap times. Fastest lap is at [0]\n",
    "                driver_lap_times_sec.sort()\n",
    "            \n",
    "                #Add drivers fastest lap to dataframe\n",
    "                valid_driver_fastest_lap.loc[len(valid_driver_fastest_lap)] = [drivers[i],f'FP{session + 1}' , driver_lap_times_sec[0]]\n",
    "\n",
    "        #Sort dataframe before returning \n",
    "        valid_driver_fastest_lap = valid_driver_fastest_lap.sort_values(by = 'FastestLap').reset_index(drop = True)    \n",
    "        \n",
    "        return valid_driver_fastest_lap"
   ]
  },
  {
   "cell_type": "code",
   "execution_count": null,
   "id": "a93934ab-6c36-4abc-9a4d-32a2862e24b8",
   "metadata": {},
   "outputs": [],
   "source": [
    "class1 = DataAquisition()"
   ]
  },
  {
   "cell_type": "code",
   "execution_count": null,
   "id": "3f9ca59b-934c-4822-bb31-39ef73258d6b",
   "metadata": {
    "scrolled": true
   },
   "outputs": [],
   "source": [
    "df = class1.get_fastest_laps(gp = 'Monza', year = 2025)\n",
    "df"
   ]
  },
  {
   "cell_type": "code",
   "execution_count": null,
   "id": "dee64e26-f00c-4ba0-8178-6af1275f29ae",
   "metadata": {},
   "outputs": [],
   "source": [
    "plt.hist(df['FastestLap'], bins = 12, color = 'green', edgecolor = 'black')\n",
    "plt.xlabel(\"Time [s]\")\n",
    "plt.ylabel(\"Frequency\")\n",
    "plt.title(\"Fastest laps Italian GP 2025 FP1/FP2/FP3\")\n",
    "plt.show()"
   ]
  },
  {
   "cell_type": "code",
   "execution_count": null,
   "id": "d66c6927-7033-4ea1-b431-9937c7f71a29",
   "metadata": {},
   "outputs": [],
   "source": [
    "frequency_count, bin_edges = np.histogram(df['FastestLap'], bins = 12)\n",
    "\n",
    "#Calc probability of each bin\n",
    "pmf = frequency_count / frequency_count.sum() \n",
    "\n",
    "#Plot PMF\n",
    "plt.stem(bin_edges[:-1], pmf)\n",
    "plt.title(\"Discrete PMF fastest laps Italian GP 2025 FP1/FP2/FP3\")\n",
    "plt.xlabel(\"Time [s]\")\n",
    "plt.ylabel(\"Probability\")\n",
    "plt.show()"
   ]
  },
  {
   "cell_type": "code",
   "execution_count": null,
   "id": "94b92e98-6b68-44da-ba3c-d9d531f48189",
   "metadata": {},
   "outputs": [],
   "source": []
  },
  {
   "cell_type": "code",
   "execution_count": null,
   "id": "f3bf59e4-9fe4-4203-bd3a-2a7aada479ba",
   "metadata": {},
   "outputs": [],
   "source": []
  },
  {
   "cell_type": "code",
   "execution_count": null,
   "id": "17abf9e8-c2c5-4a0c-b1aa-b7e37e5eb756",
   "metadata": {},
   "outputs": [],
   "source": []
  }
 ],
 "metadata": {
  "kernelspec": {
   "display_name": "Python 3 (ipykernel)",
   "language": "python",
   "name": "python3"
  },
  "language_info": {
   "codemirror_mode": {
    "name": "ipython",
    "version": 3
   },
   "file_extension": ".py",
   "mimetype": "text/x-python",
   "name": "python",
   "nbconvert_exporter": "python",
   "pygments_lexer": "ipython3",
   "version": "3.12.7"
  }
 },
 "nbformat": 4,
 "nbformat_minor": 5
}
